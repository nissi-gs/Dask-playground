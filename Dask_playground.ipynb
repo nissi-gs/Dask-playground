{
 "cells": [
  {
   "cell_type": "code",
   "execution_count": null,
   "id": "18618d54",
   "metadata": {
    "id": "18618d54"
   },
   "outputs": [],
   "source": [
    "import pandas as pd\n",
    "import pandas_ta as ta\n",
    "from datetime import datetime\n",
    "import dask.dataframe as dd\n",
    "from datetime import timedelta\n",
    "import time\n",
    "from multiprocessing import Pool\n",
    "import itertools\n",
    "import concurrent.futures\n",
    "import threading\n",
    "import dask\n",
    "import dask.dataframe as dd\n",
    "import dask.distributed as distributed\n",
    "from dask import delayed\n",
    "from dask.distributed import LocalCluster\n",
    "from dask.distributed import Client\n",
    "from dask.distributed import Client, progress\n",
    "from dask.distributed import Client"
   ]
  },
  {
   "cell_type": "code",
   "execution_count": null,
   "id": "08deadc1",
   "metadata": {
    "id": "08deadc1"
   },
   "outputs": [],
   "source": []
  },
  {
   "cell_type": "code",
   "execution_count": null,
   "id": "910349ff",
   "metadata": {
    "id": "910349ff",
    "outputId": "7bc9259c-13d4-4ddf-d126-3d77aca00ba2"
   },
   "outputs": [
    {
     "data": {
      "text/html": [
       "<div>\n",
       "<style scoped>\n",
       "    .dataframe tbody tr th:only-of-type {\n",
       "        vertical-align: middle;\n",
       "    }\n",
       "\n",
       "    .dataframe tbody tr th {\n",
       "        vertical-align: top;\n",
       "    }\n",
       "\n",
       "    .dataframe thead th {\n",
       "        text-align: right;\n",
       "    }\n",
       "</style>\n",
       "<table border=\"1\" class=\"dataframe\">\n",
       "  <thead>\n",
       "    <tr style=\"text-align: right;\">\n",
       "      <th></th>\n",
       "      <th>Ticker</th>\n",
       "      <th>Date</th>\n",
       "      <th>Time</th>\n",
       "      <th>Open</th>\n",
       "      <th>High</th>\n",
       "      <th>Low</th>\n",
       "      <th>Close</th>\n",
       "      <th>Volume</th>\n",
       "      <th>Open Interest</th>\n",
       "      <th>datetime</th>\n",
       "      <th>otm_call</th>\n",
       "      <th>otm_put</th>\n",
       "    </tr>\n",
       "  </thead>\n",
       "  <tbody>\n",
       "    <tr>\n",
       "      <th>0</th>\n",
       "      <td>BANKNIFTY-I.NFO</td>\n",
       "      <td>03/01/2022</td>\n",
       "      <td>09:15:59</td>\n",
       "      <td>36621.00</td>\n",
       "      <td>36621.00</td>\n",
       "      <td>35708.05</td>\n",
       "      <td>35811.85</td>\n",
       "      <td>82600</td>\n",
       "      <td>2347925</td>\n",
       "      <td>2022-01-03 09:15:59</td>\n",
       "      <td>36000</td>\n",
       "      <td>35700</td>\n",
       "    </tr>\n",
       "    <tr>\n",
       "      <th>1</th>\n",
       "      <td>BANKNIFTY-I.NFO</td>\n",
       "      <td>03/01/2022</td>\n",
       "      <td>09:16:59</td>\n",
       "      <td>35813.95</td>\n",
       "      <td>35825.75</td>\n",
       "      <td>35798.70</td>\n",
       "      <td>35798.70</td>\n",
       "      <td>38900</td>\n",
       "      <td>2347925</td>\n",
       "      <td>2022-01-03 09:16:59</td>\n",
       "      <td>35900</td>\n",
       "      <td>35600</td>\n",
       "    </tr>\n",
       "    <tr>\n",
       "      <th>2</th>\n",
       "      <td>BANKNIFTY-I.NFO</td>\n",
       "      <td>03/01/2022</td>\n",
       "      <td>09:17:59</td>\n",
       "      <td>35796.55</td>\n",
       "      <td>35796.90</td>\n",
       "      <td>35757.40</td>\n",
       "      <td>35782.60</td>\n",
       "      <td>28775</td>\n",
       "      <td>2368975</td>\n",
       "      <td>2022-01-03 09:17:59</td>\n",
       "      <td>35900</td>\n",
       "      <td>35600</td>\n",
       "    </tr>\n",
       "    <tr>\n",
       "      <th>3</th>\n",
       "      <td>BANKNIFTY-I.NFO</td>\n",
       "      <td>03/01/2022</td>\n",
       "      <td>09:18:59</td>\n",
       "      <td>35782.60</td>\n",
       "      <td>35834.25</td>\n",
       "      <td>35782.60</td>\n",
       "      <td>35834.25</td>\n",
       "      <td>28900</td>\n",
       "      <td>2368975</td>\n",
       "      <td>2022-01-03 09:18:59</td>\n",
       "      <td>36000</td>\n",
       "      <td>35700</td>\n",
       "    </tr>\n",
       "    <tr>\n",
       "      <th>4</th>\n",
       "      <td>BANKNIFTY-I.NFO</td>\n",
       "      <td>03/01/2022</td>\n",
       "      <td>09:19:59</td>\n",
       "      <td>35830.50</td>\n",
       "      <td>35839.65</td>\n",
       "      <td>35823.40</td>\n",
       "      <td>35835.00</td>\n",
       "      <td>28275</td>\n",
       "      <td>2368975</td>\n",
       "      <td>2022-01-03 09:19:59</td>\n",
       "      <td>36000</td>\n",
       "      <td>35700</td>\n",
       "    </tr>\n",
       "    <tr>\n",
       "      <th>5</th>\n",
       "      <td>BANKNIFTY-I.NFO</td>\n",
       "      <td>03/01/2022</td>\n",
       "      <td>09:20:59</td>\n",
       "      <td>35839.00</td>\n",
       "      <td>35840.00</td>\n",
       "      <td>35810.05</td>\n",
       "      <td>35810.60</td>\n",
       "      <td>25550</td>\n",
       "      <td>2383875</td>\n",
       "      <td>2022-01-03 09:20:59</td>\n",
       "      <td>36000</td>\n",
       "      <td>35700</td>\n",
       "    </tr>\n",
       "    <tr>\n",
       "      <th>6</th>\n",
       "      <td>BANKNIFTY-I.NFO</td>\n",
       "      <td>03/01/2022</td>\n",
       "      <td>09:21:59</td>\n",
       "      <td>35809.65</td>\n",
       "      <td>35809.65</td>\n",
       "      <td>35773.85</td>\n",
       "      <td>35785.85</td>\n",
       "      <td>20150</td>\n",
       "      <td>2383875</td>\n",
       "      <td>2022-01-03 09:21:59</td>\n",
       "      <td>35900</td>\n",
       "      <td>35600</td>\n",
       "    </tr>\n",
       "    <tr>\n",
       "      <th>7</th>\n",
       "      <td>BANKNIFTY-I.NFO</td>\n",
       "      <td>03/01/2022</td>\n",
       "      <td>09:22:59</td>\n",
       "      <td>35787.40</td>\n",
       "      <td>35797.00</td>\n",
       "      <td>35775.05</td>\n",
       "      <td>35794.05</td>\n",
       "      <td>19425</td>\n",
       "      <td>2383875</td>\n",
       "      <td>2022-01-03 09:22:59</td>\n",
       "      <td>35900</td>\n",
       "      <td>35600</td>\n",
       "    </tr>\n",
       "    <tr>\n",
       "      <th>8</th>\n",
       "      <td>BANKNIFTY-I.NFO</td>\n",
       "      <td>03/01/2022</td>\n",
       "      <td>09:23:59</td>\n",
       "      <td>35799.25</td>\n",
       "      <td>35799.25</td>\n",
       "      <td>35742.55</td>\n",
       "      <td>35752.90</td>\n",
       "      <td>32225</td>\n",
       "      <td>2393775</td>\n",
       "      <td>2022-01-03 09:23:59</td>\n",
       "      <td>35900</td>\n",
       "      <td>35600</td>\n",
       "    </tr>\n",
       "    <tr>\n",
       "      <th>9</th>\n",
       "      <td>BANKNIFTY-I.NFO</td>\n",
       "      <td>03/01/2022</td>\n",
       "      <td>09:24:59</td>\n",
       "      <td>35742.00</td>\n",
       "      <td>35742.00</td>\n",
       "      <td>35673.25</td>\n",
       "      <td>35698.35</td>\n",
       "      <td>44550</td>\n",
       "      <td>2393775</td>\n",
       "      <td>2022-01-03 09:24:59</td>\n",
       "      <td>35800</td>\n",
       "      <td>35500</td>\n",
       "    </tr>\n",
       "  </tbody>\n",
       "</table>\n",
       "</div>"
      ],
      "text/plain": [
       "            Ticker        Date      Time      Open      High       Low  \\\n",
       "0  BANKNIFTY-I.NFO  03/01/2022  09:15:59  36621.00  36621.00  35708.05   \n",
       "1  BANKNIFTY-I.NFO  03/01/2022  09:16:59  35813.95  35825.75  35798.70   \n",
       "2  BANKNIFTY-I.NFO  03/01/2022  09:17:59  35796.55  35796.90  35757.40   \n",
       "3  BANKNIFTY-I.NFO  03/01/2022  09:18:59  35782.60  35834.25  35782.60   \n",
       "4  BANKNIFTY-I.NFO  03/01/2022  09:19:59  35830.50  35839.65  35823.40   \n",
       "5  BANKNIFTY-I.NFO  03/01/2022  09:20:59  35839.00  35840.00  35810.05   \n",
       "6  BANKNIFTY-I.NFO  03/01/2022  09:21:59  35809.65  35809.65  35773.85   \n",
       "7  BANKNIFTY-I.NFO  03/01/2022  09:22:59  35787.40  35797.00  35775.05   \n",
       "8  BANKNIFTY-I.NFO  03/01/2022  09:23:59  35799.25  35799.25  35742.55   \n",
       "9  BANKNIFTY-I.NFO  03/01/2022  09:24:59  35742.00  35742.00  35673.25   \n",
       "\n",
       "      Close  Volume  Open Interest             datetime  otm_call  otm_put  \n",
       "0  35811.85   82600        2347925  2022-01-03 09:15:59     36000    35700  \n",
       "1  35798.70   38900        2347925  2022-01-03 09:16:59     35900    35600  \n",
       "2  35782.60   28775        2368975  2022-01-03 09:17:59     35900    35600  \n",
       "3  35834.25   28900        2368975  2022-01-03 09:18:59     36000    35700  \n",
       "4  35835.00   28275        2368975  2022-01-03 09:19:59     36000    35700  \n",
       "5  35810.60   25550        2383875  2022-01-03 09:20:59     36000    35700  \n",
       "6  35785.85   20150        2383875  2022-01-03 09:21:59     35900    35600  \n",
       "7  35794.05   19425        2383875  2022-01-03 09:22:59     35900    35600  \n",
       "8  35752.90   32225        2393775  2022-01-03 09:23:59     35900    35600  \n",
       "9  35698.35   44550        2393775  2022-01-03 09:24:59     35800    35500  "
      ]
     },
     "execution_count": 2,
     "metadata": {},
     "output_type": "execute_result"
    }
   ],
   "source": [
    "price = pd.read_csv(r\"C:\\Users\\yaswa\\Downloads\\D.csv\")\n",
    "price = price.drop(\"Unnamed: 0\",axis = 1)\n",
    "price.head(10)"
   ]
  },
  {
   "cell_type": "code",
   "execution_count": null,
   "id": "31cc9783",
   "metadata": {
    "id": "31cc9783"
   },
   "outputs": [],
   "source": [
    "premiums = pd.read_csv(r\"C:\\Users\\yaswa\\Downloads\\BankNifty.csv\")\n",
    "#premiums = premiums.drop(\"Unnamed: 0\",axis = 1\n"
   ]
  },
  {
   "cell_type": "code",
   "execution_count": null,
   "id": "e9a6d472",
   "metadata": {
    "id": "e9a6d472"
   },
   "outputs": [],
   "source": [
    "premiums['expiry_date'] = premiums['Ticker'].str[9:16]\n",
    "premiums['strike_price'] = premiums['Ticker'].str[16:23]"
   ]
  },
  {
   "cell_type": "code",
   "execution_count": null,
   "id": "8a6c9310",
   "metadata": {
    "id": "8a6c9310"
   },
   "outputs": [],
   "source": [
    "premiums = premiums[~premiums['expiry_date'].str.contains('-I.NFO|-II.NFO|-III.NF')]\n",
    "premiums['expiry_date'] = pd.to_datetime(premiums['expiry_date'], format='%d%b%y')"
   ]
  },
  {
   "cell_type": "code",
   "execution_count": null,
   "id": "6e3cba74",
   "metadata": {
    "id": "6e3cba74"
   },
   "outputs": [],
   "source": [
    "price[\"otm_call\"] = price[\"otm_call\"].astype(str)\n",
    "price[\"otm_put\"] = price[\"otm_put\"].astype(str) \n"
   ]
  },
  {
   "cell_type": "code",
   "execution_count": null,
   "id": "ba33e0b6",
   "metadata": {
    "id": "ba33e0b6"
   },
   "outputs": [],
   "source": []
  },
  {
   "cell_type": "code",
   "execution_count": null,
   "id": "17f9b1a7",
   "metadata": {
    "id": "17f9b1a7"
   },
   "outputs": [],
   "source": [
    "price[\"datetime\"] = pd.to_datetime(price[\"datetime\"])\n",
    "premiums[\"datetime\"] = pd.to_datetime(premiums[\"datetime\"])"
   ]
  },
  {
   "cell_type": "code",
   "execution_count": null,
   "id": "fc4c9eff",
   "metadata": {
    "id": "fc4c9eff"
   },
   "outputs": [],
   "source": [
    "price = price[[\"datetime\",\"otm_call\",\"otm_put\"]]\n",
    "price['otm_call'] = price['otm_call'].shift(periods=1)\n",
    "price['otm_put'] = price['otm_put'].shift(periods=1)"
   ]
  },
  {
   "cell_type": "code",
   "execution_count": null,
   "id": "853f6494",
   "metadata": {
    "id": "853f6494"
   },
   "outputs": [],
   "source": [
    "price[\"otm_call\"] = price[\"otm_call\"].astype(str)\n",
    "price[\"otm_put\"] = price[\"otm_put\"].astype(str)"
   ]
  },
  {
   "cell_type": "code",
   "execution_count": null,
   "id": "caf0e451",
   "metadata": {
    "id": "caf0e451",
    "outputId": "b0d540a5-04b3-465c-db42-f9192219119b"
   },
   "outputs": [
    {
     "data": {
      "text/plain": [
       "str"
      ]
     },
     "execution_count": 10,
     "metadata": {},
     "output_type": "execute_result"
    }
   ],
   "source": [
    "type(price[\"otm_call\"][1])"
   ]
  },
  {
   "cell_type": "code",
   "execution_count": null,
   "id": "7d81329a",
   "metadata": {
    "id": "7d81329a",
    "outputId": "df03a349-f8b7-49c9-8053-9216400d9a0a"
   },
   "outputs": [
    {
     "data": {
      "text/html": [
       "<div>\n",
       "<style scoped>\n",
       "    .dataframe tbody tr th:only-of-type {\n",
       "        vertical-align: middle;\n",
       "    }\n",
       "\n",
       "    .dataframe tbody tr th {\n",
       "        vertical-align: top;\n",
       "    }\n",
       "\n",
       "    .dataframe thead th {\n",
       "        text-align: right;\n",
       "    }\n",
       "</style>\n",
       "<table border=\"1\" class=\"dataframe\">\n",
       "  <thead>\n",
       "    <tr style=\"text-align: right;\">\n",
       "      <th></th>\n",
       "      <th>datetime</th>\n",
       "      <th>otm_call</th>\n",
       "      <th>otm_put</th>\n",
       "    </tr>\n",
       "  </thead>\n",
       "  <tbody>\n",
       "    <tr>\n",
       "      <th>0</th>\n",
       "      <td>2022-01-03 09:15:59</td>\n",
       "      <td>None</td>\n",
       "      <td>None</td>\n",
       "    </tr>\n",
       "    <tr>\n",
       "      <th>1</th>\n",
       "      <td>2022-01-03 09:16:59</td>\n",
       "      <td>36000</td>\n",
       "      <td>35700</td>\n",
       "    </tr>\n",
       "    <tr>\n",
       "      <th>2</th>\n",
       "      <td>2022-01-03 09:17:59</td>\n",
       "      <td>35900</td>\n",
       "      <td>35600</td>\n",
       "    </tr>\n",
       "    <tr>\n",
       "      <th>3</th>\n",
       "      <td>2022-01-03 09:18:59</td>\n",
       "      <td>35900</td>\n",
       "      <td>35600</td>\n",
       "    </tr>\n",
       "    <tr>\n",
       "      <th>4</th>\n",
       "      <td>2022-01-03 09:19:59</td>\n",
       "      <td>36000</td>\n",
       "      <td>35700</td>\n",
       "    </tr>\n",
       "    <tr>\n",
       "      <th>...</th>\n",
       "      <td>...</td>\n",
       "      <td>...</td>\n",
       "      <td>...</td>\n",
       "    </tr>\n",
       "    <tr>\n",
       "      <th>91018</th>\n",
       "      <td>2022-12-28 15:26:59</td>\n",
       "      <td>42900</td>\n",
       "      <td>42600</td>\n",
       "    </tr>\n",
       "    <tr>\n",
       "      <th>91019</th>\n",
       "      <td>2022-12-28 15:27:59</td>\n",
       "      <td>43000</td>\n",
       "      <td>42700</td>\n",
       "    </tr>\n",
       "    <tr>\n",
       "      <th>91020</th>\n",
       "      <td>2022-12-28 15:28:59</td>\n",
       "      <td>43000</td>\n",
       "      <td>42700</td>\n",
       "    </tr>\n",
       "    <tr>\n",
       "      <th>91021</th>\n",
       "      <td>2022-12-28 15:29:59</td>\n",
       "      <td>42900</td>\n",
       "      <td>42600</td>\n",
       "    </tr>\n",
       "    <tr>\n",
       "      <th>91022</th>\n",
       "      <td>2022-12-28 15:30:59</td>\n",
       "      <td>42900</td>\n",
       "      <td>42600</td>\n",
       "    </tr>\n",
       "  </tbody>\n",
       "</table>\n",
       "<p>91023 rows × 3 columns</p>\n",
       "</div>"
      ],
      "text/plain": [
       "                 datetime otm_call otm_put\n",
       "0     2022-01-03 09:15:59     None    None\n",
       "1     2022-01-03 09:16:59    36000   35700\n",
       "2     2022-01-03 09:17:59    35900   35600\n",
       "3     2022-01-03 09:18:59    35900   35600\n",
       "4     2022-01-03 09:19:59    36000   35700\n",
       "...                   ...      ...     ...\n",
       "91018 2022-12-28 15:26:59    42900   42600\n",
       "91019 2022-12-28 15:27:59    43000   42700\n",
       "91020 2022-12-28 15:28:59    43000   42700\n",
       "91021 2022-12-28 15:29:59    42900   42600\n",
       "91022 2022-12-28 15:30:59    42900   42600\n",
       "\n",
       "[91023 rows x 3 columns]"
      ]
     },
     "execution_count": 11,
     "metadata": {},
     "output_type": "execute_result"
    }
   ],
   "source": [
    "price"
   ]
  },
  {
   "cell_type": "code",
   "execution_count": null,
   "id": "c2846c26",
   "metadata": {
    "id": "c2846c26"
   },
   "outputs": [],
   "source": [
    "premiums = premiums[[\"Time\",\"Open\",\"High\",\"Low\",\"Close\",\"datetime\",\"expiry_date\",\"strike_price\"]]"
   ]
  },
  {
   "cell_type": "code",
   "execution_count": null,
   "id": "2216d9d7",
   "metadata": {
    "id": "2216d9d7"
   },
   "outputs": [],
   "source": []
  },
  {
   "cell_type": "code",
   "execution_count": null,
   "id": "fd4feaaa",
   "metadata": {
    "id": "fd4feaaa"
   },
   "outputs": [],
   "source": [
    "def implementation_Requirements(row,t):\n",
    "   # y = pd.to_datetime(row['datetime'])- pd.Timedelta(minutes=1)\n",
    "    date_str_new = row[\"datetime\"] - timedelta(minutes = 1)\n",
    "\n",
    "    e = Supertrend(t, row[\"otm_call\"], row[\"otm_put\"],date_str_new)\n",
    "    #None, None,None,None,None,None\n",
    "    #print(e)\n",
    "    if e is None :\n",
    "        return None, None,None,None,None,None\n",
    "        \n",
    "    r = t.loc[(t['strike_price'] == row[\"otm_call\"] + \"CE\") & (t[\"datetime\"] == date_str_new) & (t[\"expiry_date\"] ==e[1]) ]\n",
    "    if len(r) == 0:\n",
    "        return None, None,None,None,None,None\n",
    "    r_call = r['Close'].values[0]\n",
    "    o = t.loc[(t['strike_price'] == row[\"otm_put\"] + \"PE\") & (t[\"datetime\"] == date_str_new) & (t[\"expiry_date\"] == e[1])]\n",
    "    if len(o) == 0:\n",
    "        return None, None,None,None,None,None\n",
    "    r_put = o['Close'].values[0] \n",
    "    u = t.loc[(t['strike_price'] == row[\"otm_call\"] + \"CE\") & (t[\"datetime\"] == row[\"datetime\"]) & (t[\"expiry_date\"] ==e[1])]\n",
    "    if len(u) == 0:\n",
    "        return None, None,None,None,None,None\n",
    "    u_call = u['Open'].values[0]\n",
    "    p = t.loc[(t['strike_price'] == row[\"otm_put\"] + \"PE\") & (t[\"datetime\"] == row[\"datetime\"]) & (t[\"expiry_date\"] == e[1])]\n",
    "    if len(p) == 0:\n",
    "        return None, None,None,None,None,None\n",
    "    \n",
    "    u_put = p['Open'].values[0]\n",
    "    time_obj = row[\"datetime\"].time()\n",
    "    \n",
    "    return r_call, r_put, u_call, u_put,time_obj,e"
   ]
  },
  {
   "cell_type": "code",
   "execution_count": null,
   "id": "1a6202ae",
   "metadata": {
    "id": "1a6202ae",
    "outputId": "e87e1404-699a-4470-e474-0f978e68d14c"
   },
   "outputs": [
    {
     "data": {
      "text/html": [
       "<div>\n",
       "<style scoped>\n",
       "    .dataframe tbody tr th:only-of-type {\n",
       "        vertical-align: middle;\n",
       "    }\n",
       "\n",
       "    .dataframe tbody tr th {\n",
       "        vertical-align: top;\n",
       "    }\n",
       "\n",
       "    .dataframe thead th {\n",
       "        text-align: right;\n",
       "    }\n",
       "</style>\n",
       "<table border=\"1\" class=\"dataframe\">\n",
       "  <thead>\n",
       "    <tr style=\"text-align: right;\">\n",
       "      <th></th>\n",
       "      <th>Time</th>\n",
       "      <th>Open</th>\n",
       "      <th>High</th>\n",
       "      <th>Low</th>\n",
       "      <th>Close</th>\n",
       "      <th>datetime</th>\n",
       "      <th>expiry_date</th>\n",
       "      <th>strike_price</th>\n",
       "    </tr>\n",
       "  </thead>\n",
       "  <tbody>\n",
       "    <tr>\n",
       "      <th>0</th>\n",
       "      <td>09:15:59</td>\n",
       "      <td>270.90</td>\n",
       "      <td>270.90</td>\n",
       "      <td>241.50</td>\n",
       "      <td>250.00</td>\n",
       "      <td>2022-01-03 09:15:59</td>\n",
       "      <td>2022-01-27</td>\n",
       "      <td>34000PE</td>\n",
       "    </tr>\n",
       "    <tr>\n",
       "      <th>1</th>\n",
       "      <td>09:15:59</td>\n",
       "      <td>2.00</td>\n",
       "      <td>2.05</td>\n",
       "      <td>1.65</td>\n",
       "      <td>1.90</td>\n",
       "      <td>2022-01-03 09:15:59</td>\n",
       "      <td>2022-01-06</td>\n",
       "      <td>43000CE</td>\n",
       "    </tr>\n",
       "    <tr>\n",
       "      <th>2</th>\n",
       "      <td>09:15:59</td>\n",
       "      <td>723.90</td>\n",
       "      <td>723.90</td>\n",
       "      <td>723.90</td>\n",
       "      <td>723.90</td>\n",
       "      <td>2022-01-03 09:15:59</td>\n",
       "      <td>2022-01-13</td>\n",
       "      <td>36100PE</td>\n",
       "    </tr>\n",
       "    <tr>\n",
       "      <th>3</th>\n",
       "      <td>09:15:59</td>\n",
       "      <td>2.85</td>\n",
       "      <td>2.95</td>\n",
       "      <td>2.40</td>\n",
       "      <td>2.65</td>\n",
       "      <td>2022-01-03 09:15:59</td>\n",
       "      <td>2022-01-06</td>\n",
       "      <td>39000CE</td>\n",
       "    </tr>\n",
       "    <tr>\n",
       "      <th>4</th>\n",
       "      <td>09:15:59</td>\n",
       "      <td>563.90</td>\n",
       "      <td>590.00</td>\n",
       "      <td>561.05</td>\n",
       "      <td>590.00</td>\n",
       "      <td>2022-01-03 09:15:59</td>\n",
       "      <td>2022-01-27</td>\n",
       "      <td>35300PE</td>\n",
       "    </tr>\n",
       "    <tr>\n",
       "      <th>...</th>\n",
       "      <td>...</td>\n",
       "      <td>...</td>\n",
       "      <td>...</td>\n",
       "      <td>...</td>\n",
       "      <td>...</td>\n",
       "      <td>...</td>\n",
       "      <td>...</td>\n",
       "      <td>...</td>\n",
       "    </tr>\n",
       "    <tr>\n",
       "      <th>25173270</th>\n",
       "      <td>15:30:59</td>\n",
       "      <td>605.00</td>\n",
       "      <td>605.00</td>\n",
       "      <td>605.00</td>\n",
       "      <td>605.00</td>\n",
       "      <td>2022-12-28 15:30:59</td>\n",
       "      <td>2023-01-05</td>\n",
       "      <td>43200PE</td>\n",
       "    </tr>\n",
       "    <tr>\n",
       "      <th>25173271</th>\n",
       "      <td>15:30:59</td>\n",
       "      <td>105.00</td>\n",
       "      <td>105.00</td>\n",
       "      <td>105.00</td>\n",
       "      <td>105.00</td>\n",
       "      <td>2022-12-28 15:30:59</td>\n",
       "      <td>2023-01-25</td>\n",
       "      <td>45100CE</td>\n",
       "    </tr>\n",
       "    <tr>\n",
       "      <th>25173272</th>\n",
       "      <td>15:30:59</td>\n",
       "      <td>5.50</td>\n",
       "      <td>5.50</td>\n",
       "      <td>5.50</td>\n",
       "      <td>5.50</td>\n",
       "      <td>2022-12-28 15:30:59</td>\n",
       "      <td>2022-12-29</td>\n",
       "      <td>40700PE</td>\n",
       "    </tr>\n",
       "    <tr>\n",
       "      <th>25173273</th>\n",
       "      <td>15:30:59</td>\n",
       "      <td>90.05</td>\n",
       "      <td>90.05</td>\n",
       "      <td>90.05</td>\n",
       "      <td>90.05</td>\n",
       "      <td>2022-12-28 15:30:59</td>\n",
       "      <td>2023-01-05</td>\n",
       "      <td>41600PE</td>\n",
       "    </tr>\n",
       "    <tr>\n",
       "      <th>25173274</th>\n",
       "      <td>15:30:59</td>\n",
       "      <td>3.00</td>\n",
       "      <td>3.00</td>\n",
       "      <td>3.00</td>\n",
       "      <td>3.00</td>\n",
       "      <td>2022-12-28 15:30:59</td>\n",
       "      <td>2022-12-29</td>\n",
       "      <td>44400CE</td>\n",
       "    </tr>\n",
       "  </tbody>\n",
       "</table>\n",
       "<p>24922061 rows × 8 columns</p>\n",
       "</div>"
      ],
      "text/plain": [
       "              Time    Open    High     Low   Close            datetime  \\\n",
       "0         09:15:59  270.90  270.90  241.50  250.00 2022-01-03 09:15:59   \n",
       "1         09:15:59    2.00    2.05    1.65    1.90 2022-01-03 09:15:59   \n",
       "2         09:15:59  723.90  723.90  723.90  723.90 2022-01-03 09:15:59   \n",
       "3         09:15:59    2.85    2.95    2.40    2.65 2022-01-03 09:15:59   \n",
       "4         09:15:59  563.90  590.00  561.05  590.00 2022-01-03 09:15:59   \n",
       "...            ...     ...     ...     ...     ...                 ...   \n",
       "25173270  15:30:59  605.00  605.00  605.00  605.00 2022-12-28 15:30:59   \n",
       "25173271  15:30:59  105.00  105.00  105.00  105.00 2022-12-28 15:30:59   \n",
       "25173272  15:30:59    5.50    5.50    5.50    5.50 2022-12-28 15:30:59   \n",
       "25173273  15:30:59   90.05   90.05   90.05   90.05 2022-12-28 15:30:59   \n",
       "25173274  15:30:59    3.00    3.00    3.00    3.00 2022-12-28 15:30:59   \n",
       "\n",
       "         expiry_date strike_price  \n",
       "0         2022-01-27      34000PE  \n",
       "1         2022-01-06      43000CE  \n",
       "2         2022-01-13      36100PE  \n",
       "3         2022-01-06      39000CE  \n",
       "4         2022-01-27      35300PE  \n",
       "...              ...          ...  \n",
       "25173270  2023-01-05      43200PE  \n",
       "25173271  2023-01-25      45100CE  \n",
       "25173272  2022-12-29      40700PE  \n",
       "25173273  2023-01-05      41600PE  \n",
       "25173274  2022-12-29      44400CE  \n",
       "\n",
       "[24922061 rows x 8 columns]"
      ]
     },
     "execution_count": 14,
     "metadata": {},
     "output_type": "execute_result"
    }
   ],
   "source": [
    "premiums"
   ]
  },
  {
   "cell_type": "code",
   "execution_count": null,
   "id": "5350845d",
   "metadata": {
    "id": "5350845d"
   },
   "outputs": [],
   "source": [
    "o = price[50:]\n",
    "o = o.reset_index(drop=True)\n",
    "position = None\n",
    "start_time = pd.Timestamp('2022-1-03 09:20:00')\n",
    "timeframe = pd.Timedelta(minutes=5)\n",
    "last_trade_exit_time = start_time - timeframe\n",
    "time_str2 = \"15:10:00\"\n",
    "time_str1 = \"9:20:00\"\n",
    "time_str3 = \"15:20:00\"\n",
    "\n",
    "time_obj1 = datetime.strptime(time_str1, '%H:%M:%S').time()\n",
    "time_obj2 = datetime.strptime(time_str2, '%H:%M:%S').time()\n",
    "time_obj3 = datetime.strptime(time_str3, '%H:%M:%S').time()\n",
    "last_call = 0\n",
    "last_put = 0\n",
    "D = []"
   ]
  },
  {
   "cell_type": "code",
   "execution_count": null,
   "id": "24748e88",
   "metadata": {
    "id": "24748e88",
    "outputId": "4f0a085f-b9af-4577-91f2-df7f1de68118"
   },
   "outputs": [
    {
     "data": {
      "text/plain": [
       "Timestamp('2022-01-03 10:05:59')"
      ]
     },
     "execution_count": 16,
     "metadata": {},
     "output_type": "execute_result"
    }
   ],
   "source": [
    "o[\"datetime\"][0]"
   ]
  },
  {
   "cell_type": "code",
   "execution_count": null,
   "id": "10f2aa88",
   "metadata": {
    "id": "10f2aa88",
    "outputId": "b3202041-0c31-4d9b-f7dc-1e80054d5a45"
   },
   "outputs": [
    {
     "data": {
      "text/plain": [
       "90973"
      ]
     },
     "execution_count": 17,
     "metadata": {},
     "output_type": "execute_result"
    }
   ],
   "source": [
    "len(o)"
   ]
  },
  {
   "cell_type": "code",
   "execution_count": null,
   "id": "4e011a0c",
   "metadata": {
    "id": "4e011a0c",
    "outputId": "de090fb7-4ea0-4f66-9b48-20bff29094d7"
   },
   "outputs": [
    {
     "data": {
      "text/html": [
       "<div>\n",
       "<style scoped>\n",
       "    .dataframe tbody tr th:only-of-type {\n",
       "        vertical-align: middle;\n",
       "    }\n",
       "\n",
       "    .dataframe tbody tr th {\n",
       "        vertical-align: top;\n",
       "    }\n",
       "\n",
       "    .dataframe thead th {\n",
       "        text-align: right;\n",
       "    }\n",
       "</style>\n",
       "<table border=\"1\" class=\"dataframe\">\n",
       "  <thead>\n",
       "    <tr style=\"text-align: right;\">\n",
       "      <th></th>\n",
       "      <th>datetime</th>\n",
       "      <th>otm_call</th>\n",
       "      <th>otm_put</th>\n",
       "    </tr>\n",
       "  </thead>\n",
       "  <tbody>\n",
       "    <tr>\n",
       "      <th>0</th>\n",
       "      <td>2022-01-03 09:15:59</td>\n",
       "      <td>None</td>\n",
       "      <td>None</td>\n",
       "    </tr>\n",
       "    <tr>\n",
       "      <th>1</th>\n",
       "      <td>2022-01-03 09:16:59</td>\n",
       "      <td>36000</td>\n",
       "      <td>35700</td>\n",
       "    </tr>\n",
       "    <tr>\n",
       "      <th>2</th>\n",
       "      <td>2022-01-03 09:17:59</td>\n",
       "      <td>35900</td>\n",
       "      <td>35600</td>\n",
       "    </tr>\n",
       "    <tr>\n",
       "      <th>3</th>\n",
       "      <td>2022-01-03 09:18:59</td>\n",
       "      <td>35900</td>\n",
       "      <td>35600</td>\n",
       "    </tr>\n",
       "    <tr>\n",
       "      <th>4</th>\n",
       "      <td>2022-01-03 09:19:59</td>\n",
       "      <td>36000</td>\n",
       "      <td>35700</td>\n",
       "    </tr>\n",
       "    <tr>\n",
       "      <th>...</th>\n",
       "      <td>...</td>\n",
       "      <td>...</td>\n",
       "      <td>...</td>\n",
       "    </tr>\n",
       "    <tr>\n",
       "      <th>91018</th>\n",
       "      <td>2022-12-28 15:26:59</td>\n",
       "      <td>42900</td>\n",
       "      <td>42600</td>\n",
       "    </tr>\n",
       "    <tr>\n",
       "      <th>91019</th>\n",
       "      <td>2022-12-28 15:27:59</td>\n",
       "      <td>43000</td>\n",
       "      <td>42700</td>\n",
       "    </tr>\n",
       "    <tr>\n",
       "      <th>91020</th>\n",
       "      <td>2022-12-28 15:28:59</td>\n",
       "      <td>43000</td>\n",
       "      <td>42700</td>\n",
       "    </tr>\n",
       "    <tr>\n",
       "      <th>91021</th>\n",
       "      <td>2022-12-28 15:29:59</td>\n",
       "      <td>42900</td>\n",
       "      <td>42600</td>\n",
       "    </tr>\n",
       "    <tr>\n",
       "      <th>91022</th>\n",
       "      <td>2022-12-28 15:30:59</td>\n",
       "      <td>42900</td>\n",
       "      <td>42600</td>\n",
       "    </tr>\n",
       "  </tbody>\n",
       "</table>\n",
       "<p>91023 rows × 3 columns</p>\n",
       "</div>"
      ],
      "text/plain": [
       "                 datetime otm_call otm_put\n",
       "0     2022-01-03 09:15:59     None    None\n",
       "1     2022-01-03 09:16:59    36000   35700\n",
       "2     2022-01-03 09:17:59    35900   35600\n",
       "3     2022-01-03 09:18:59    35900   35600\n",
       "4     2022-01-03 09:19:59    36000   35700\n",
       "...                   ...      ...     ...\n",
       "91018 2022-12-28 15:26:59    42900   42600\n",
       "91019 2022-12-28 15:27:59    43000   42700\n",
       "91020 2022-12-28 15:28:59    43000   42700\n",
       "91021 2022-12-28 15:29:59    42900   42600\n",
       "91022 2022-12-28 15:30:59    42900   42600\n",
       "\n",
       "[91023 rows x 3 columns]"
      ]
     },
     "execution_count": 18,
     "metadata": {},
     "output_type": "execute_result"
    }
   ],
   "source": [
    "price"
   ]
  },
  {
   "cell_type": "code",
   "execution_count": null,
   "id": "dab78857",
   "metadata": {
    "id": "dab78857",
    "outputId": "e832e512-dad7-48f9-de19-f4c20ee50f26"
   },
   "outputs": [
    {
     "data": {
      "text/html": [
       "<div>\n",
       "<style scoped>\n",
       "    .dataframe tbody tr th:only-of-type {\n",
       "        vertical-align: middle;\n",
       "    }\n",
       "\n",
       "    .dataframe tbody tr th {\n",
       "        vertical-align: top;\n",
       "    }\n",
       "\n",
       "    .dataframe thead th {\n",
       "        text-align: right;\n",
       "    }\n",
       "</style>\n",
       "<table border=\"1\" class=\"dataframe\">\n",
       "  <thead>\n",
       "    <tr style=\"text-align: right;\">\n",
       "      <th></th>\n",
       "      <th>Time</th>\n",
       "      <th>Open</th>\n",
       "      <th>High</th>\n",
       "      <th>Low</th>\n",
       "      <th>Close</th>\n",
       "      <th>datetime</th>\n",
       "      <th>expiry_date</th>\n",
       "      <th>strike_price</th>\n",
       "    </tr>\n",
       "  </thead>\n",
       "  <tbody>\n",
       "    <tr>\n",
       "      <th>0</th>\n",
       "      <td>09:15:59</td>\n",
       "      <td>270.90</td>\n",
       "      <td>270.90</td>\n",
       "      <td>241.50</td>\n",
       "      <td>250.00</td>\n",
       "      <td>2022-01-03 09:15:59</td>\n",
       "      <td>2022-01-27</td>\n",
       "      <td>34000PE</td>\n",
       "    </tr>\n",
       "    <tr>\n",
       "      <th>1</th>\n",
       "      <td>09:15:59</td>\n",
       "      <td>2.00</td>\n",
       "      <td>2.05</td>\n",
       "      <td>1.65</td>\n",
       "      <td>1.90</td>\n",
       "      <td>2022-01-03 09:15:59</td>\n",
       "      <td>2022-01-06</td>\n",
       "      <td>43000CE</td>\n",
       "    </tr>\n",
       "    <tr>\n",
       "      <th>2</th>\n",
       "      <td>09:15:59</td>\n",
       "      <td>723.90</td>\n",
       "      <td>723.90</td>\n",
       "      <td>723.90</td>\n",
       "      <td>723.90</td>\n",
       "      <td>2022-01-03 09:15:59</td>\n",
       "      <td>2022-01-13</td>\n",
       "      <td>36100PE</td>\n",
       "    </tr>\n",
       "    <tr>\n",
       "      <th>3</th>\n",
       "      <td>09:15:59</td>\n",
       "      <td>2.85</td>\n",
       "      <td>2.95</td>\n",
       "      <td>2.40</td>\n",
       "      <td>2.65</td>\n",
       "      <td>2022-01-03 09:15:59</td>\n",
       "      <td>2022-01-06</td>\n",
       "      <td>39000CE</td>\n",
       "    </tr>\n",
       "    <tr>\n",
       "      <th>4</th>\n",
       "      <td>09:15:59</td>\n",
       "      <td>563.90</td>\n",
       "      <td>590.00</td>\n",
       "      <td>561.05</td>\n",
       "      <td>590.00</td>\n",
       "      <td>2022-01-03 09:15:59</td>\n",
       "      <td>2022-01-27</td>\n",
       "      <td>35300PE</td>\n",
       "    </tr>\n",
       "    <tr>\n",
       "      <th>...</th>\n",
       "      <td>...</td>\n",
       "      <td>...</td>\n",
       "      <td>...</td>\n",
       "      <td>...</td>\n",
       "      <td>...</td>\n",
       "      <td>...</td>\n",
       "      <td>...</td>\n",
       "      <td>...</td>\n",
       "    </tr>\n",
       "    <tr>\n",
       "      <th>25173270</th>\n",
       "      <td>15:30:59</td>\n",
       "      <td>605.00</td>\n",
       "      <td>605.00</td>\n",
       "      <td>605.00</td>\n",
       "      <td>605.00</td>\n",
       "      <td>2022-12-28 15:30:59</td>\n",
       "      <td>2023-01-05</td>\n",
       "      <td>43200PE</td>\n",
       "    </tr>\n",
       "    <tr>\n",
       "      <th>25173271</th>\n",
       "      <td>15:30:59</td>\n",
       "      <td>105.00</td>\n",
       "      <td>105.00</td>\n",
       "      <td>105.00</td>\n",
       "      <td>105.00</td>\n",
       "      <td>2022-12-28 15:30:59</td>\n",
       "      <td>2023-01-25</td>\n",
       "      <td>45100CE</td>\n",
       "    </tr>\n",
       "    <tr>\n",
       "      <th>25173272</th>\n",
       "      <td>15:30:59</td>\n",
       "      <td>5.50</td>\n",
       "      <td>5.50</td>\n",
       "      <td>5.50</td>\n",
       "      <td>5.50</td>\n",
       "      <td>2022-12-28 15:30:59</td>\n",
       "      <td>2022-12-29</td>\n",
       "      <td>40700PE</td>\n",
       "    </tr>\n",
       "    <tr>\n",
       "      <th>25173273</th>\n",
       "      <td>15:30:59</td>\n",
       "      <td>90.05</td>\n",
       "      <td>90.05</td>\n",
       "      <td>90.05</td>\n",
       "      <td>90.05</td>\n",
       "      <td>2022-12-28 15:30:59</td>\n",
       "      <td>2023-01-05</td>\n",
       "      <td>41600PE</td>\n",
       "    </tr>\n",
       "    <tr>\n",
       "      <th>25173274</th>\n",
       "      <td>15:30:59</td>\n",
       "      <td>3.00</td>\n",
       "      <td>3.00</td>\n",
       "      <td>3.00</td>\n",
       "      <td>3.00</td>\n",
       "      <td>2022-12-28 15:30:59</td>\n",
       "      <td>2022-12-29</td>\n",
       "      <td>44400CE</td>\n",
       "    </tr>\n",
       "  </tbody>\n",
       "</table>\n",
       "<p>24922061 rows × 8 columns</p>\n",
       "</div>"
      ],
      "text/plain": [
       "              Time    Open    High     Low   Close            datetime  \\\n",
       "0         09:15:59  270.90  270.90  241.50  250.00 2022-01-03 09:15:59   \n",
       "1         09:15:59    2.00    2.05    1.65    1.90 2022-01-03 09:15:59   \n",
       "2         09:15:59  723.90  723.90  723.90  723.90 2022-01-03 09:15:59   \n",
       "3         09:15:59    2.85    2.95    2.40    2.65 2022-01-03 09:15:59   \n",
       "4         09:15:59  563.90  590.00  561.05  590.00 2022-01-03 09:15:59   \n",
       "...            ...     ...     ...     ...     ...                 ...   \n",
       "25173270  15:30:59  605.00  605.00  605.00  605.00 2022-12-28 15:30:59   \n",
       "25173271  15:30:59  105.00  105.00  105.00  105.00 2022-12-28 15:30:59   \n",
       "25173272  15:30:59    5.50    5.50    5.50    5.50 2022-12-28 15:30:59   \n",
       "25173273  15:30:59   90.05   90.05   90.05   90.05 2022-12-28 15:30:59   \n",
       "25173274  15:30:59    3.00    3.00    3.00    3.00 2022-12-28 15:30:59   \n",
       "\n",
       "         expiry_date strike_price  \n",
       "0         2022-01-27      34000PE  \n",
       "1         2022-01-06      43000CE  \n",
       "2         2022-01-13      36100PE  \n",
       "3         2022-01-06      39000CE  \n",
       "4         2022-01-27      35300PE  \n",
       "...              ...          ...  \n",
       "25173270  2023-01-05      43200PE  \n",
       "25173271  2023-01-25      45100CE  \n",
       "25173272  2022-12-29      40700PE  \n",
       "25173273  2023-01-05      41600PE  \n",
       "25173274  2022-12-29      44400CE  \n",
       "\n",
       "[24922061 rows x 8 columns]"
      ]
     },
     "execution_count": 19,
     "metadata": {},
     "output_type": "execute_result"
    }
   ],
   "source": [
    "premiums"
   ]
  },
  {
   "cell_type": "code",
   "execution_count": null,
   "id": "3a14d675",
   "metadata": {
    "id": "3a14d675"
   },
   "outputs": [],
   "source": [
    "starttime = time.time()"
   ]
  },
  {
   "cell_type": "markdown",
   "id": "393836f6",
   "metadata": {
    "id": "393836f6"
   },
   "source": [
    "## Dask"
   ]
  },
  {
   "cell_type": "code",
   "execution_count": null,
   "id": "4160383c",
   "metadata": {
    "id": "4160383c"
   },
   "outputs": [],
   "source": [
    "import dask.bag as db\n",
    "from dask import compute,delayed\n"
   ]
  },
  {
   "cell_type": "markdown",
   "id": "4bbe5322",
   "metadata": {
    "id": "4bbe5322"
   },
   "source": [
    "Convert every code to Dask."
   ]
  },
  {
   "cell_type": "markdown",
   "id": "808d13dd",
   "metadata": {
    "id": "808d13dd"
   },
   "source": [
    "compute() function may seem costly, but multiprocessing through pandas dataframe is too difficult."
   ]
  },
  {
   "cell_type": "code",
   "execution_count": null,
   "id": "1282e01e",
   "metadata": {
    "id": "1282e01e"
   },
   "outputs": [],
   "source": [
    "def Supertrend(dataset, call_otm, put_otm, date_time,row,period = 10, multiplier=3):\n",
    "    if call_otm is None:\n",
    "        return None\n",
    "    call = call_otm + \"CE\"\n",
    "    put = put_otm + \"PE\"\n",
    "    date_obj = row[\"datetime\"].date()\n",
    "    premiums_copy = dataset.copy()\n",
    "    #premiums_copy['expiry_date'] = pd.to_datetime(premiums_copy['expiry_date'])\n",
    "    #premiums_copy['datetime'] = pd.to_datetime(premiums_copy['datetime'])\n",
    "    k_call = premiums_copy[((premiums_copy[\"datetime\"]) <= date_time) & ((premiums_copy[\"strike_price\"] == call)) & (premiums_copy['expiry_date'] >= pd.Timestamp(date_obj))]\n",
    "    k_call = k_call.reset_index(drop=True)\n",
    "    \n",
    "    if len(k_call.index) == 0:\n",
    "        return None\n",
    "    \n",
    "    a = k_call.sort_values(by='expiry_date')[\"expiry_date\"].iloc[0]\n",
    "    k_call = k_call[k_call['expiry_date'] == a]\n",
    "    k_put = premiums_copy[((premiums_copy[\"datetime\"]) <= date_time) & ((premiums_copy[\"strike_price\"] == put)) & (premiums_copy['expiry_date'] == a)]\n",
    "    k_put = k_put.reset_index(drop=True)\n",
    "    \n",
    "    if len(k_put.index) == 0:\n",
    "        return None\n",
    "    \n",
    "    k_call = k_call[k_call[\"datetime\"].isin(k_put[\"datetime\"])]\n",
    "    k_put = k_put[k_put[\"datetime\"].isin(k_call[\"datetime\"])]\n",
    "    k_put = k_put.reset_index(drop=True)\n",
    "    k_call = k_call.reset_index(drop=True)\n",
    "    merged = pd.merge(k_call, k_put, on='datetime')\n",
    "    merged['Open'] = merged['Open_x'] + merged['Open_y']\n",
    "    merged['Close'] = merged['Close_x'] + merged['Close_y']\n",
    "    merged['High'] = merged['High_x'] + merged['High_y']\n",
    "    merged['Low'] = merged['Low_x'] + merged['Low_y']\n",
    "    merged = merged[[\"Open\", \"Low\", \"Close\", \"High\",\"datetime\"]]\n",
    "    merged['group'] = (merged.index // 5) + 1\n",
    "    if len(merged) < 50:\n",
    "        return None\n",
    "    merged_resampled = merged.groupby('group').agg({'Open': 'first', 'High': 'max', 'Low': 'min', 'Close': 'last'})\n",
    "    supertrend = ta.supertrend(high=merged[\"High\"], low=merged[\"Low\"], close=merged[\"Close\"], period = 10, multiplier =3)\n",
    "    # if \"SUPERT_7_3.0\" not in supertrend.columns:\n",
    "        #return None\n",
    "    merged_resampled[\"Supertrend\"] = supertrend[\"SUPERT_7_3.0\"]\n",
    "    if len(merged) % 5 == 0:\n",
    "        super_trend = merged_resampled[\"Supertrend\"].iloc[-1]\n",
    "    else:\n",
    "        super_trend = merged_resampled[\"Supertrend\"].iloc[-2]\n",
    "        \n",
    "    return [super_trend,a]\n"
   ]
  },
  {
   "cell_type": "code",
   "execution_count": null,
   "id": "2992fca3",
   "metadata": {
    "id": "2992fca3"
   },
   "outputs": [],
   "source": [
    "\n",
    "def implementation_Requirements(row,t):\n",
    "   # y = pd.to_datetime(row['datetime'])- pd.Timedelta(minutes=1)\n",
    "    date_str_new = row[\"datetime\"] - timedelta(minutes = 1)\n",
    "\n",
    "    e = Supertrend(t, row[\"otm_call\"], row[\"otm_put\"],date_str_new,row)\n",
    "    #None, None,None,None,None,None\n",
    "    #print(e)\n",
    "    if e is None :\n",
    "        return None, None,None,None,None,None\n",
    "        \n",
    "    r = t.loc[(t['strike_price'] == row[\"otm_call\"] + \"CE\") & (t[\"datetime\"] == date_str_new) & (t[\"expiry_date\"] ==e[1]) ]\n",
    "    if len(r) == 0:\n",
    "        return None, None,None,None,None,None\n",
    "    r_call = r['Close'].values[0]\n",
    "    o = t.loc[(t['strike_price'] == row[\"otm_put\"] + \"PE\") & (t[\"datetime\"] == date_str_new) & (t[\"expiry_date\"] == e[1])]\n",
    "    if len(o) == 0:\n",
    "        return None, None,None,None,None,None\n",
    "    r_put = o['Close'].values[0] \n",
    "    u = t.loc[(t['strike_price'] == row[\"otm_call\"] + \"CE\") & (t[\"datetime\"] == row[\"datetime\"]) & (t[\"expiry_date\"] ==e[1])]\n",
    "    if len(u) == 0:\n",
    "        return None, None,None,None,None,None\n",
    "    u_call = u['Open'].values[0]\n",
    "    p = t.loc[(t['strike_price'] == row[\"otm_put\"] + \"PE\") & (t[\"datetime\"] == row[\"datetime\"]) & (t[\"expiry_date\"] == e[1])]\n",
    "    if len(p) == 0:\n",
    "        return None, None,None,None,None,None\n",
    "    \n",
    "    u_put = p['Open'].values[0]\n",
    "    time_obj = row[\"datetime\"].time()\n",
    "    \n",
    "    return r_call, r_put, u_call, u_put,time_obj,e"
   ]
  },
  {
   "cell_type": "code",
   "execution_count": null,
   "id": "7f6e037c",
   "metadata": {
    "id": "7f6e037c"
   },
   "outputs": [],
   "source": [
    "def process_date(date,df):\n",
    "    #print(1)\n",
    "    timeframe = pd.Timedelta(minutes=5)\n",
    "    last_trade_exit_time =  pd.Timestamp('2022-1-03 09:20:00')\n",
    "    time_str2 = \"15:10:00\"\n",
    "    time_str1 = \"9:20:00\"\n",
    "    time_str3 = \"15:20:00\"\n",
    "\n",
    "    time_obj1 = datetime.strptime(time_str1, '%H:%M:%S').time()\n",
    "    time_obj2 = datetime.strptime(time_str2, '%H:%M:%S').time()\n",
    "    time_obj3 = datetime.strptime(time_str3, '%H:%M:%S').time()\n",
    "    last_call = 0\n",
    "    last_put = 0\n",
    "    D = []\n",
    "    group = price[price['datetime'].dt.date == date] \n",
    "    position = None\n",
    "    for i, row in group.iterrows():\n",
    "        t = df[(df[\"datetime\"]<=row[\"datetime\"]) & (df[\"datetime\"] > (row[\"datetime\"] - timedelta(days = 70)))]\n",
    "        \n",
    "    \n",
    "    \n",
    "        r_call, r_put, u_call, u_put,time_obj,e = implementation_Requirements(row,t)\n",
    "        \n",
    "        if  r_call is None:\n",
    "            continue\n",
    "    \n",
    "    \n",
    "    \n",
    "    # check if it's time to scan for new trades\n",
    "        if ((row['datetime']) >= (last_trade_exit_time + timeframe)) and (position is None) and  (time_obj <= time_obj2) and (time_obj >= time_obj1):\n",
    "            if r_call + r_put < e[0]:\n",
    "                position = \"Entry\"\n",
    "            # = pd.concat([D, pd.DataFrame([[position,u_call,u_put,row[\"datetime\"],row[\"otm_call\"],row[\"otm_put\"]]], columns=D.columns)], ignore_index=True)\n",
    "            #print(\"ntry\",i)\n",
    "                last_call = row[\"otm_call\"]\n",
    "                last_put = row[\"otm_put\"]\n",
    "                D.append([\"Entry\",u_call,row[\"otm_call\"],u_put,row[\"otm_put\"],row[\"datetime\"]])\n",
    "         #D = D + [[\"Entry\",u_call,row[\"otm_call\"],u_put,row[\"otm_put\"],row[\"datetime\"]]]\n",
    "        elif position is not None:\n",
    "            if (time_obj <= time_obj3):\n",
    "                if row[\"otm_call\"] == last_call and row[\"otm_put\"] == last_put:\n",
    "                    if r_call + r_put > e[0]:\n",
    "                    #D = D + [[\"Exit_Stoploss\",u_call,last_call,last_put,row[\"otm_put\"],row[\"datetime\"]]]\n",
    "                        D.append([\"Exit_Stoploss\",u_call,last_call,last_put,row[\"otm_put\"],row[\"datetime\"]])\n",
    "                        position = None\n",
    "                        last_trade_exit_time = row[\"datetime\"]\n",
    "                        last_call = 0\n",
    "                        last_put = 0\n",
    "                    \n",
    "                   #D = pd.concat([D, pd.DataFrame([[position,u_call,u_put,row[\"datetime\"],row[\"otm_call\"],row[\"otm_put\"]]], columns=D.columns)], ignore_index=True)\n",
    "                    #print(\"Exit\",i)\n",
    "                    \n",
    "                    \n",
    "                else:\n",
    "                    position = None\n",
    "                #print(\"Exit\",\"Change\")\n",
    "                    i= t.loc[(t['strike_price'] == last_call + \"CE\") & (t[\"datetime\"] == row[\"datetime\"]) & (t[\"expiry_date\"] == e[1])]\n",
    "                    i_call = i[\"Open\"].values[0]\n",
    "                    y= t.loc[(t['strike_price'] == last_put + \"PE\") & (t[\"datetime\"] == row[\"datetime\"]) & (t[\"expiry_date\"] == e[1])]\n",
    "                    i_put = y[\"Open\"].values[0]\n",
    "                    last_trade_exit_time = row[\"datetime\"]\n",
    "                #D = D + [[\"Exit_Change\",i_call,last_call,i_put,last_put,row[\"datetime\"]]]\n",
    "                    D.append([\"Exit_Change\",i_call,last_call,i_put,last_put,row[\"datetime\"]])\n",
    "                    last_call = 0\n",
    "                    last_put = 0\n",
    "            else:\n",
    "            #D = D+[[\"Exit_Squareoff\",u_call,last_call,last_put,row[\"otm_put\"],row[\"datetime\"]]]\n",
    "                D.append([\"Exit_Squareoff\",u_call,last_call,last_put,row[\"otm_put\"],row[\"datetime\"]])\n",
    "                position = None\n",
    "                last_trade_exit_time = row[\"datetime\"]\n",
    "                last_call = 0\n",
    "                last_put = 0 \n",
    "               #D = pd.concat([D, pd.DataFrame([[position,u_call,u_put,row[\"datetime\"],row[\"otm_call\"],row[\"otm_put\"]]], columns=D.columns)], ignore_index=True)\n",
    "            #print(\"Exit\",i)  \n",
    "            \n",
    "            \n",
    "    return pd.DataFrame(D)"
   ]
  },
  {
   "cell_type": "code",
   "execution_count": null,
   "id": "acdab39d",
   "metadata": {
    "id": "acdab39d"
   },
   "outputs": [],
   "source": []
  },
  {
   "cell_type": "code",
   "execution_count": null,
   "id": "78f41daa",
   "metadata": {
    "id": "78f41daa"
   },
   "outputs": [],
   "source": []
  },
  {
   "cell_type": "code",
   "execution_count": null,
   "id": "f04008ef",
   "metadata": {
    "id": "f04008ef"
   },
   "outputs": [],
   "source": []
  },
  {
   "cell_type": "code",
   "execution_count": null,
   "id": "a0a36cc2",
   "metadata": {
    "id": "a0a36cc2"
   },
   "outputs": [],
   "source": [
    "def premiums_last(date,df):\n",
    "    date = pd.Timestamp(date)\n",
    "    t = df[(df[\"datetime\"]<= date + timedelta(days = 1)) & (df[\"datetime\"] > (date - timedelta(days = 70)))]\n",
    "    return t\n",
    "    "
   ]
  },
  {
   "cell_type": "code",
   "execution_count": null,
   "id": "b9e0a9de",
   "metadata": {
    "id": "b9e0a9de"
   },
   "outputs": [],
   "source": []
  },
  {
   "cell_type": "code",
   "execution_count": null,
   "id": "ac4d4fc5",
   "metadata": {
    "id": "ac4d4fc5"
   },
   "outputs": [],
   "source": []
  },
  {
   "cell_type": "code",
   "execution_count": null,
   "id": "ec7150d3",
   "metadata": {
    "id": "ec7150d3"
   },
   "outputs": [],
   "source": [
    "\n"
   ]
  },
  {
   "cell_type": "markdown",
   "id": "13b9a179",
   "metadata": {
    "id": "13b9a179"
   },
   "source": [
    "Use delayed function for Parallelization of Code"
   ]
  },
  {
   "cell_type": "code",
   "execution_count": null,
   "id": "9c017c7d",
   "metadata": {
    "id": "9c017c7d"
   },
   "outputs": [],
   "source": [
    "price"
   ]
  },
  {
   "cell_type": "code",
   "execution_count": null,
   "id": "2fa313ee",
   "metadata": {
    "id": "2fa313ee"
   },
   "outputs": [],
   "source": [
    "dates[-1]"
   ]
  },
  {
   "cell_type": "code",
   "execution_count": null,
   "id": "2cdeb0f4",
   "metadata": {
    "id": "2cdeb0f4"
   },
   "outputs": [],
   "source": [
    "%%time\n",
    "process_date(dates[-1],premiums)"
   ]
  },
  {
   "cell_type": "code",
   "execution_count": null,
   "id": "31c29b92",
   "metadata": {
    "id": "31c29b92"
   },
   "outputs": [],
   "source": [
    "process_date(dates[-1],premiums)"
   ]
  },
  {
   "cell_type": "markdown",
   "id": "602ea73c",
   "metadata": {
    "id": "602ea73c"
   },
   "source": [
    "# Increasing the Limit of My Cluster."
   ]
  },
  {
   "cell_type": "code",
   "execution_count": null,
   "id": "a8ff408f",
   "metadata": {
    "id": "a8ff408f"
   },
   "outputs": [],
   "source": [
    "df = dd.from_pandas(premiums, npartitions=4)\n",
    "df\n",
    "type(df)"
   ]
  },
  {
   "cell_type": "code",
   "execution_count": null,
   "id": "25fc396a",
   "metadata": {
    "id": "25fc396a"
   },
   "outputs": [],
   "source": [
    "df = df.repartition(npartitions=50)\n",
    "\n",
    "\n"
   ]
  },
  {
   "cell_type": "code",
   "execution_count": null,
   "id": "1ae77f64",
   "metadata": {
    "id": "1ae77f64"
   },
   "outputs": [],
   "source": [
    "import dask.distributed\n",
    "\n",
    "# create a Dask client\n",
    "client = dask.distributed.Client()\n",
    "\n",
    "# compute a Dask dataframe\n",
    "df = dask.datasets.timeseries()\n",
    "\n",
    "# scatter the Dask dataframe\n",
    "df_scattered = client.scatter(df)\n",
    "\n",
    "# submit a computation on the Dask dataframe\n",
    "future = client.submit(lambda df: df.sum(), df_scattered)\n",
    "\n",
    "# wait for the computation to complete and get the result\n",
    "result = client.gather(future)\n",
    "\n",
    "# print the result\n",
    "print(result)\n"
   ]
  },
  {
   "cell_type": "raw",
   "id": "e71ef144",
   "metadata": {
    "id": "e71ef144"
   },
   "source": [
    "df = dd.from_pandas(premiums, npartitions=4)\n",
    "s = process_date(k[3], df)\n"
   ]
  },
  {
   "cell_type": "code",
   "execution_count": null,
   "id": "406f7c7d",
   "metadata": {
    "id": "406f7c7d"
   },
   "outputs": [],
   "source": [
    "cluster = LocalCluster(n_workers=4, threads_per_worker=1,memory_limit='12GB')\n",
    "client = Client(cluster)"
   ]
  },
  {
   "cell_type": "code",
   "execution_count": null,
   "id": "d11929ce",
   "metadata": {
    "id": "d11929ce"
   },
   "outputs": [],
   "source": [
    "client"
   ]
  },
  {
   "cell_type": "code",
   "execution_count": null,
   "id": "c5430328",
   "metadata": {
    "id": "c5430328"
   },
   "outputs": [],
   "source": [
    "client.close()"
   ]
  },
  {
   "cell_type": "code",
   "execution_count": null,
   "id": "16e399db",
   "metadata": {
    "id": "16e399db"
   },
   "outputs": [],
   "source": [
    "df_scattered = client.scatter(df)"
   ]
  },
  {
   "cell_type": "code",
   "execution_count": null,
   "id": "ba241328",
   "metadata": {
    "id": "ba241328"
   },
   "outputs": [],
   "source": [
    "results = []"
   ]
  },
  {
   "cell_type": "code",
   "execution_count": null,
   "id": "33687a40",
   "metadata": {
    "id": "33687a40"
   },
   "outputs": [],
   "source": [
    "for date in k:\n",
    "    result = client.submit(process_date, date, df_scattered)\n",
    "    results.append(result)"
   ]
  },
  {
   "cell_type": "code",
   "execution_count": null,
   "id": "347559b3",
   "metadata": {
    "id": "347559b3"
   },
   "outputs": [],
   "source": [
    "final_result = client.submit(pd.concat, results).result()"
   ]
  },
  {
   "cell_type": "code",
   "execution_count": null,
   "id": "4cce1726",
   "metadata": {
    "id": "4cce1726"
   },
   "outputs": [],
   "source": [
    "import dask.dataframe as dd\n",
    "import dask.distributed\n",
    "\n",
    "# create a Dask client\n",
    "client = dask.distributed.Client()\n",
    "\n",
    "# create a Dask DataFrame\n",
    "\n",
    "# scatter the Dask DataFrame to the workers\n",
    "df_scattered = client.scatter(df)\n",
    "\n",
    "# persist the Dask DataFrame in memory\n",
    "df_persisted = client.persist(df_scattered)\n",
    "\n",
    "# get the first partition of the Dask DataFrame\n",
    "df_part = client.compute(df_persisted.partitions[0]).result()\n",
    "print(df_part.head())"
   ]
  },
  {
   "cell_type": "code",
   "execution_count": null,
   "id": "54414ed5",
   "metadata": {
    "id": "54414ed5"
   },
   "outputs": [],
   "source": [
    "df = client.scatter(df, timeout=150)"
   ]
  },
  {
   "cell_type": "code",
   "execution_count": null,
   "id": "0472c67a",
   "metadata": {
    "id": "0472c67a"
   },
   "outputs": [],
   "source": [
    "dates[200]"
   ]
  },
  {
   "cell_type": "code",
   "execution_count": null,
   "id": "217cf534",
   "metadata": {
    "id": "217cf534"
   },
   "outputs": [],
   "source": [
    "for client in Client._instances:\n",
    "    client.close()"
   ]
  },
  {
   "cell_type": "code",
   "execution_count": null,
   "id": "64283aa9",
   "metadata": {
    "id": "64283aa9"
   },
   "outputs": [],
   "source": [
    "Client._instances"
   ]
  },
  {
   "cell_type": "code",
   "execution_count": null,
   "id": "26b35223",
   "metadata": {
    "id": "26b35223"
   },
   "outputs": [],
   "source": [
    "process_date(k[0],df)"
   ]
  },
  {
   "cell_type": "code",
   "execution_count": null,
   "id": "535f329f",
   "metadata": {
    "id": "535f329f"
   },
   "outputs": [],
   "source": [
    "\n",
    "# Create futures for each date and the Dask DataFrame\n",
    "date_futures = client.map(lambda date: process_date(date, df_scattered), k)"
   ]
  },
  {
   "cell_type": "code",
   "execution_count": null,
   "id": "ffdee2d3",
   "metadata": {
    "id": "ffdee2d3"
   },
   "outputs": [],
   "source": [
    "\n",
    "#y = dask.distributed.default_client().scheduler_info()['workers'].keys()"
   ]
  },
  {
   "cell_type": "code",
   "execution_count": null,
   "id": "cd2ee5c4",
   "metadata": {
    "id": "cd2ee5c4"
   },
   "outputs": [],
   "source": [
    "print(date_futures)"
   ]
  },
  {
   "cell_type": "code",
   "execution_count": null,
   "id": "9cdf5ecb",
   "metadata": {
    "id": "9cdf5ecb"
   },
   "outputs": [],
   "source": [
    "results = client.gather(date_futures)"
   ]
  },
  {
   "cell_type": "code",
   "execution_count": null,
   "id": "141fb201",
   "metadata": {
    "id": "141fb201"
   },
   "outputs": [],
   "source": [
    "for result in results:\n",
    "    print(result.compute())"
   ]
  },
  {
   "cell_type": "code",
   "execution_count": null,
   "id": "073038cd",
   "metadata": {
    "id": "073038cd"
   },
   "outputs": [],
   "source": [
    "type(client)"
   ]
  },
  {
   "cell_type": "code",
   "execution_count": null,
   "id": "a74d3f01",
   "metadata": {
    "id": "a74d3f01"
   },
   "outputs": [],
   "source": [
    "print(results)"
   ]
  },
  {
   "cell_type": "code",
   "execution_count": null,
   "id": "f86fe841",
   "metadata": {
    "id": "f86fe841"
   },
   "outputs": [],
   "source": [
    "client.close()"
   ]
  },
  {
   "cell_type": "code",
   "execution_count": null,
   "id": "aa5effb0",
   "metadata": {
    "id": "aa5effb0"
   },
   "outputs": [],
   "source": [
    "status = client.status(date_futures)\n"
   ]
  },
  {
   "cell_type": "code",
   "execution_count": null,
   "id": "92dd937b",
   "metadata": {
    "id": "92dd937b"
   },
   "outputs": [],
   "source": [
    "results = []\n",
    "for date in k:\n",
    "    result = process_date(date, df)\n",
    "    results.append(result)\n"
   ]
  },
  {
   "cell_type": "code",
   "execution_count": null,
   "id": "70c3767f",
   "metadata": {
    "id": "70c3767f"
   },
   "outputs": [],
   "source": [
    "computed_results = client.compute(results)"
   ]
  },
  {
   "cell_type": "code",
   "execution_count": null,
   "id": "7b34f00f",
   "metadata": {
    "id": "7b34f00f"
   },
   "outputs": [],
   "source": [
    "print(computed_results)"
   ]
  },
  {
   "cell_type": "code",
   "execution_count": null,
   "id": "1ed0cdf0",
   "metadata": {
    "id": "1ed0cdf0"
   },
   "outputs": [],
   "source": [
    "import time\n",
    "starttime= time.time()"
   ]
  },
  {
   "cell_type": "code",
   "execution_count": null,
   "id": "fd5d7de2",
   "metadata": {
    "id": "fd5d7de2"
   },
   "outputs": [],
   "source": [
    "s"
   ]
  },
  {
   "cell_type": "code",
   "execution_count": null,
   "id": "d4beeb60",
   "metadata": {
    "id": "d4beeb60"
   },
   "outputs": [],
   "source": [
    "s.compute()"
   ]
  },
  {
   "cell_type": "code",
   "execution_count": null,
   "id": "4be61628",
   "metadata": {
    "id": "4be61628"
   },
   "outputs": [],
   "source": [
    "endtime = time.time()\n",
    "print(endtime - starttime)"
   ]
  },
  {
   "cell_type": "code",
   "execution_count": null,
   "id": "fecfc04f",
   "metadata": {
    "id": "fecfc04f"
   },
   "outputs": [],
   "source": [
    "dates = list(o['datetime'].dt.date.unique())\n",
    "k  = [dates[i] for i in range(2)]"
   ]
  },
  {
   "cell_type": "code",
   "execution_count": null,
   "id": "ee1dfd60",
   "metadata": {
    "id": "ee1dfd60"
   },
   "outputs": [],
   "source": [
    "u = df[(df[\"datetime\"] <=price[\"datetime\"][70] ) & (df[\"datetime\"] > (price[\"datetime\"][80] - timedelta(days=70)))]"
   ]
  },
  {
   "cell_type": "code",
   "execution_count": null,
   "id": "79e897a3",
   "metadata": {
    "id": "79e897a3"
   },
   "outputs": [],
   "source": [
    "type(u)"
   ]
  },
  {
   "cell_type": "code",
   "execution_count": null,
   "id": "2b847016",
   "metadata": {
    "id": "2b847016"
   },
   "outputs": [],
   "source": [
    "s = process_date(k[1],df)\n",
    "result = dask.compute(s)"
   ]
  },
  {
   "cell_type": "code",
   "execution_count": null,
   "id": "36ff2028",
   "metadata": {
    "id": "36ff2028"
   },
   "outputs": [],
   "source": [
    "u.compute()"
   ]
  },
  {
   "cell_type": "code",
   "execution_count": null,
   "id": "8667cc6a",
   "metadata": {
    "id": "8667cc6a"
   },
   "outputs": [],
   "source": [
    "r = time.time()\n",
    "\n",
    "t = premiums[(premiums[\"datetime\"] <=price[\"datetime\"][9000] ) & (premiums[\"datetime\"] > (price[\"datetime\"][9000] - timedelta(days=70)))]\n",
    "t\n",
    "f = time.time()\n",
    "print(f-r)"
   ]
  },
  {
   "cell_type": "code",
   "execution_count": null,
   "id": "efbaf0b4",
   "metadata": {
    "id": "efbaf0b4"
   },
   "outputs": [],
   "source": []
  },
  {
   "cell_type": "code",
   "execution_count": null,
   "id": "42d05234",
   "metadata": {
    "id": "42d05234"
   },
   "outputs": [],
   "source": [
    "delayed_results = [process_date(date, df) for date in k]"
   ]
  },
  {
   "cell_type": "code",
   "execution_count": null,
   "id": "f228f9f4",
   "metadata": {
    "id": "f228f9f4"
   },
   "outputs": [],
   "source": [
    "bag = db.from_delayed(delayed_results)\n",
    "results = bag.compute()"
   ]
  },
  {
   "cell_type": "raw",
   "id": "24ddf3b8",
   "metadata": {
    "id": "24ddf3b8"
   },
   "source": [
    "for i, row in o.iterrows():\n",
    "    t = premiums[(premiums[\"datetime\"]<=row[\"datetime\"]) & (premiums[\"datetime\"] > (row[\"datetime\"] - timedelta(days = 70)))]\n",
    "    \n",
    "    \n",
    "    \n",
    "    r_call, r_put, u_call, u_put,time_obj,e = implementation_Requirements(row,t)\n",
    "        \n",
    "    if  r_call is None:\n",
    "        continue\n",
    "    \n",
    "    \n",
    "    \n",
    "    # check if it's time to scan for new trades\n",
    "    if ((row['datetime']) >= (last_trade_exit_time + timeframe)) and (position is None) and  (time_obj <= time_obj2) and (time_obj >= time_obj1):\n",
    "        if r_call + r_put < e[0]:\n",
    "            position = \"Entry\"\n",
    "            # = pd.concat([D, pd.DataFrame([[position,u_call,u_put,row[\"datetime\"],row[\"otm_call\"],row[\"otm_put\"]]], columns=D.columns)], ignore_index=True)\n",
    "            #print(\"ntry\",i)\n",
    "            last_call = row[\"otm_call\"]\n",
    "            last_put = row[\"otm_put\"]\n",
    "            D.append([\"Entry\",u_call,row[\"otm_call\"],u_put,row[\"otm_put\"],row[\"datetime\"]])\n",
    "         #D = D + [[\"Entry\",u_call,row[\"otm_call\"],u_put,row[\"otm_put\"],row[\"datetime\"]]]\n",
    "    elif position is not None:\n",
    "        if (time_obj <= time_obj3):\n",
    "            if row[\"otm_call\"] == last_call and row[\"otm_put\"] == last_put:\n",
    "                if r_call + r_put > e[0]:\n",
    "                    #D = D + [[\"Exit_Stoploss\",u_call,last_call,last_put,row[\"otm_put\"],row[\"datetime\"]]]\n",
    "                    D.append([\"Exit_Stoploss\",u_call,last_call,last_put,row[\"otm_put\"],row[\"datetime\"]])\n",
    "                    position = None\n",
    "                    last_trade_exit_time = row[\"datetime\"]\n",
    "                    last_call = 0\n",
    "                    last_put = 0\n",
    "                    \n",
    "                   #D = pd.concat([D, pd.DataFrame([[position,u_call,u_put,row[\"datetime\"],row[\"otm_call\"],row[\"otm_put\"]]], columns=D.columns)], ignore_index=True)\n",
    "                    #print(\"Exit\",i)\n",
    "                    \n",
    "                    \n",
    "            else:\n",
    "                position = None\n",
    "                #print(\"Exit\",\"Change\")\n",
    "                i= t.loc[(t['strike_price'] == last_call + \"CE\") & (t[\"datetime\"] == row[\"datetime\"]) & (t[\"expiry_date\"] == e[1])]\n",
    "                i_call = i[\"Open\"].values[0]\n",
    "                y= t.loc[(t['strike_price'] == last_put + \"PE\") & (t[\"datetime\"] == row[\"datetime\"]) & (t[\"expiry_date\"] == e[1])]\n",
    "                i_put = y[\"Open\"].values[0]\n",
    "                last_trade_exit_time = row[\"datetime\"]\n",
    "                #D = D + [[\"Exit_Change\",i_call,last_call,i_put,last_put,row[\"datetime\"]]]\n",
    "                D.append([\"Exit_Change\",i_call,last_call,i_put,last_put,row[\"datetime\"]])\n",
    "                last_call = 0\n",
    "                last_put = 0\n",
    "        else:\n",
    "            #D = D+[[\"Exit_Squareoff\",u_call,last_call,last_put,row[\"otm_put\"],row[\"datetime\"]]]\n",
    "            D.append([\"Exit_Squareoff\",u_call,last_call,last_put,row[\"otm_put\"],row[\"datetime\"]])\n",
    "            position = None\n",
    "            last_trade_exit_time = row[\"datetime\"]\n",
    "            last_call = 0\n",
    "            last_put = 0 \n",
    "               #D = pd.concat([D, pd.DataFrame([[position,u_call,u_put,row[\"datetime\"],row[\"otm_call\"],row[\"otm_put\"]]], columns=D.columns)], ignore_index=True)\n",
    "            #print(\"Exit\",i)      "
   ]
  },
  {
   "cell_type": "code",
   "execution_count": null,
   "id": "084ae982",
   "metadata": {
    "id": "084ae982"
   },
   "outputs": [],
   "source": [
    "u = []"
   ]
  },
  {
   "cell_type": "raw",
   "id": "4d1902dc",
   "metadata": {
    "id": "4d1902dc"
   },
   "source": [
    "for date in dates:\n",
    "    y = process_date(date,premiums)\n",
    "    u.append(y)\n",
    "    \n",
    "    "
   ]
  },
  {
   "cell_type": "code",
   "execution_count": null,
   "id": "3b5e4bcf",
   "metadata": {
    "id": "3b5e4bcf"
   },
   "outputs": [],
   "source": [
    "u\n",
    "    "
   ]
  },
  {
   "cell_type": "code",
   "execution_count": null,
   "id": "9c0247c0",
   "metadata": {
    "id": "9c0247c0"
   },
   "outputs": [],
   "source": []
  },
  {
   "cell_type": "code",
   "execution_count": null,
   "id": "31b78faa",
   "metadata": {
    "id": "31b78faa"
   },
   "outputs": [],
   "source": []
  },
  {
   "cell_type": "raw",
   "id": "966df489",
   "metadata": {
    "id": "966df489"
   },
   "source": [
    "with ProcessPoolExecutor() as executor:\n",
    "    futures = [executor.submit(premium_t, premiums, date) for date in dates]\n",
    "    results = [future.result() for future in as_completed(futures)]"
   ]
  },
  {
   "cell_type": "raw",
   "id": "dde90901",
   "metadata": {
    "id": "dde90901"
   },
   "source": [
    "num_processes = 6\n",
    "with concurrent.futures.ThreadPoolExecutor(max_workers=4) as executor:\n",
    "    # submit the process_date function to the thread pool for each date\n",
    "    futures = [executor.submit(process_date, date, premiums) for date in dates]\n",
    "\n",
    "# collect the results from each thread\n",
    "results = [future.result() for future in futures]\n"
   ]
  },
  {
   "cell_type": "raw",
   "id": "77f1a0ba",
   "metadata": {
    "id": "77f1a0ba"
   },
   "source": [
    "results = [future.result() for future in futures]\n"
   ]
  },
  {
   "cell_type": "raw",
   "id": "506733dd",
   "metadata": {
    "id": "506733dd"
   },
   "source": [
    "with Pool(num_processes) as p:\n",
    "    # Use the map function to apply the process_date function to each date in the list\n",
    "    results = p.starmap(process_date, [(date, premiums) for date in k])\n"
   ]
  },
  {
   "cell_type": "raw",
   "id": "f0dd73d3",
   "metadata": {
    "id": "f0dd73d3"
   },
   "source": [
    "Pool(num_processes).close()"
   ]
  },
  {
   "cell_type": "code",
   "execution_count": null,
   "id": "ae2ef8e0",
   "metadata": {
    "id": "ae2ef8e0"
   },
   "outputs": [],
   "source": [
    "endtime = time.time()\n",
    "print(-starttime + endtime)"
   ]
  },
  {
   "cell_type": "code",
   "execution_count": null,
   "id": "bc1dd31d",
   "metadata": {
    "id": "bc1dd31d"
   },
   "outputs": [],
   "source": [
    "import pygame\n",
    "\n",
    "pygame.mixer.init()\n",
    "pygame.mixer.music.load(r\"C:\\Users\\yaswa\\Downloads\\Jolly-O-Gymkhana-MassTamilan.so.mp3\")\n",
    "pygame.mixer.music.play()"
   ]
  },
  {
   "cell_type": "code",
   "execution_count": null,
   "id": "d93ba6c8",
   "metadata": {
    "id": "d93ba6c8"
   },
   "outputs": [],
   "source": [
    "pygame.mixer.music.stop()"
   ]
  },
  {
   "cell_type": "raw",
   "id": "0803f1ce",
   "metadata": {
    "id": "0803f1ce"
   },
   "source": [
    "p.close()"
   ]
  },
  {
   "cell_type": "code",
   "execution_count": null,
   "id": "c62522f9",
   "metadata": {
    "id": "c62522f9"
   },
   "outputs": [],
   "source": [
    "pd.DataFrame(D)"
   ]
  },
  {
   "cell_type": "code",
   "execution_count": null,
   "id": "9306a4e0",
   "metadata": {
    "id": "9306a4e0"
   },
   "outputs": [],
   "source": []
  },
  {
   "cell_type": "code",
   "execution_count": null,
   "id": "cc8d3496",
   "metadata": {
    "id": "cc8d3496"
   },
   "outputs": [],
   "source": [
    "groups = price.groupby(price['datetime'].dt.date)"
   ]
  },
  {
   "cell_type": "code",
   "execution_count": null,
   "id": "4c74581b",
   "metadata": {
    "id": "4c74581b"
   },
   "outputs": [],
   "source": [
    "group = price[price['datetime'].dt.date == date] "
   ]
  },
  {
   "cell_type": "code",
   "execution_count": null,
   "id": "0ed0b634",
   "metadata": {
    "id": "0ed0b634"
   },
   "outputs": [],
   "source": []
  },
  {
   "cell_type": "code",
   "execution_count": null,
   "id": "a7708576",
   "metadata": {
    "id": "a7708576"
   },
   "outputs": [],
   "source": []
  },
  {
   "cell_type": "code",
   "execution_count": null,
   "id": "0fb5eaa6",
   "metadata": {
    "id": "0fb5eaa6"
   },
   "outputs": [],
   "source": [
    "k  = [dates[i] for i in range(6)]"
   ]
  },
  {
   "cell_type": "code",
   "execution_count": null,
   "id": "cc4f8326",
   "metadata": {
    "id": "cc4f8326"
   },
   "outputs": [],
   "source": [
    "k"
   ]
  },
  {
   "cell_type": "code",
   "execution_count": null,
   "id": "58ff83b4",
   "metadata": {
    "id": "58ff83b4"
   },
   "outputs": [],
   "source": []
  }
 ],
 "metadata": {
  "colab": {
   "provenance": []
  },
  "kernelspec": {
   "display_name": "Python 3 (ipykernel)",
   "language": "python",
   "name": "python3"
  },
  "language_info": {
   "codemirror_mode": {
    "name": "ipython",
    "version": 3
   },
   "file_extension": ".py",
   "mimetype": "text/x-python",
   "name": "python",
   "nbconvert_exporter": "python",
   "pygments_lexer": "ipython3",
   "version": "3.10.6"
  }
 },
 "nbformat": 4,
 "nbformat_minor": 5
}
